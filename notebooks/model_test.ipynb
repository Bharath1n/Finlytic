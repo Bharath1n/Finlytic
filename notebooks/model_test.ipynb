{
 "cells": [
  {
   "cell_type": "code",
   "execution_count": 2,
   "id": "a5cb83cb-7190-4c33-8412-7918bc4e902a",
   "metadata": {},
   "outputs": [],
   "source": [
    "import joblib\n",
    "import pandas as pd"
   ]
  },
  {
   "cell_type": "code",
   "execution_count": 4,
   "id": "c37f3e31-2f1c-4d76-bf67-157c5baaea98",
   "metadata": {},
   "outputs": [],
   "source": [
    "model = joblib.load(r\"C:\\Users\\BHARATH N\\Downloads\\random_forest_model.pkl\")"
   ]
  },
  {
   "cell_type": "code",
   "execution_count": 61,
   "id": "0bd773d8-dcbd-4496-a193-ce7aa1a95a8a",
   "metadata": {},
   "outputs": [],
   "source": [
    "sample_data = pd.DataFrame({\n",
    "    'Age': [30],\n",
    "    'Income': [60000],\n",
    "    'LoanAmount': [50000],\n",
    "    'CreditScore': [750],\n",
    "    'MonthsEmployed' : [10],\n",
    "    'NumCreditLines' : [2],\n",
    "    'InterestRate' : [12.02],\n",
    "    'LoanTerm' : [24],\n",
    "    'DTIRatio' : [0.54],\n",
    "    'HasMortgage' : [0],\n",
    "    'HasDependents' :[1],\n",
    "    'HasCoSigner' : [1],\n",
    "    'Education_High School' : [1],\n",
    "    \"Education_Master's\" : [1],\n",
    "    'Education_PhD' : [1],\n",
    "    'EmploymentType_Part-time' : [0],\n",
    "    'EmploymentType_Self-employed': [1],\n",
    "    'EmploymentType_Unemployed': [0],\n",
    "    'MaritalStatus_Married' : [1],\n",
    "    'MaritalStatus_Single' : [0],\n",
    "    'LoanPurpose_Business' : [0],\n",
    "    'LoanPurpose_Education': [0],\n",
    "    'LoanPurpose_Home': [1],\n",
    "    'LoanPurpose_Other': [0]\n",
    "})"
   ]
  },
  {
   "cell_type": "code",
   "execution_count": 63,
   "id": "524f62dc-042c-467d-97ae-0c9a5cfadc37",
   "metadata": {},
   "outputs": [
    {
     "data": {
      "text/plain": [
       "array(['Age', 'Income', 'LoanAmount', 'CreditScore', 'MonthsEmployed',\n",
       "       'NumCreditLines', 'InterestRate', 'LoanTerm', 'DTIRatio',\n",
       "       'HasMortgage', 'HasDependents', 'HasCoSigner',\n",
       "       'Education_High School', \"Education_Master's\", 'Education_PhD',\n",
       "       'EmploymentType_Part-time', 'EmploymentType_Self-employed',\n",
       "       'EmploymentType_Unemployed', 'MaritalStatus_Married',\n",
       "       'MaritalStatus_Single', 'LoanPurpose_Business',\n",
       "       'LoanPurpose_Education', 'LoanPurpose_Home', 'LoanPurpose_Other'],\n",
       "      dtype=object)"
      ]
     },
     "execution_count": 63,
     "metadata": {},
     "output_type": "execute_result"
    }
   ],
   "source": [
    "model.feature_names_in_"
   ]
  },
  {
   "cell_type": "code",
   "execution_count": 65,
   "id": "3ca29e54-242f-496d-bd1b-28050e0ff7db",
   "metadata": {},
   "outputs": [],
   "source": [
    "prediction = model.predict(sample_data)"
   ]
  },
  {
   "cell_type": "code",
   "execution_count": 67,
   "id": "13cb598c-791f-4691-8cb5-b981cb71a97f",
   "metadata": {},
   "outputs": [
    {
     "name": "stdout",
     "output_type": "stream",
     "text": [
      "Predicted Default Status: 0\n"
     ]
    }
   ],
   "source": [
    "print(\"Predicted Default Status:\", prediction[0])"
   ]
  },
  {
   "cell_type": "code",
   "execution_count": null,
   "id": "8196837b-23f5-4822-a163-7be9c8f238a6",
   "metadata": {},
   "outputs": [],
   "source": []
  }
 ],
 "metadata": {
  "kernelspec": {
   "display_name": "Python [conda env:base] *",
   "language": "python",
   "name": "conda-base-py"
  },
  "language_info": {
   "codemirror_mode": {
    "name": "ipython",
    "version": 3
   },
   "file_extension": ".py",
   "mimetype": "text/x-python",
   "name": "python",
   "nbconvert_exporter": "python",
   "pygments_lexer": "ipython3",
   "version": "3.12.7"
  }
 },
 "nbformat": 4,
 "nbformat_minor": 5
}
